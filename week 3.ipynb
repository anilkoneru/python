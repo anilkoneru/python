{
 "cells": [
  {
   "cell_type": "code",
   "execution_count": 5,
   "metadata": {},
   "outputs": [
    {
     "name": "stdout",
     "output_type": "stream",
     "text": [
      "My first bicycle was Redline.\n"
     ]
    }
   ],
   "source": [
    "bicycles = [\"Hero\", \"Redline\",\"Trek\",\"Hercules\"]\n",
    "message = f\"My first bicycle was {bicycles[1].title()}.\"\n",
    "print(message)"
   ]
  },
  {
   "cell_type": "code",
   "execution_count": 6,
   "metadata": {},
   "outputs": [
    {
     "name": "stdout",
     "output_type": "stream",
     "text": [
      "['honda', 'yamaha', 'suzizki']\n",
      "['ducati', 'yamaha', 'suzizki']\n"
     ]
    }
   ],
   "source": [
    "Motorcycles = [\"honda\",\"yamaha\",\"suzizki\"]\n",
    "print(Motorcycles)\n",
    "#To change the elements in the list\n",
    "Motorcycles[0] = \"ducati\"\n",
    "print(Motorcycles)"
   ]
  },
  {
   "cell_type": "code",
   "execution_count": 7,
   "metadata": {},
   "outputs": [
    {
     "name": "stdout",
     "output_type": "stream",
     "text": [
      "['honda', 'yamaha', 'suzizki']\n",
      "['honda', 'yamaha', 'suzizki', 'ducati']\n"
     ]
    }
   ],
   "source": [
    "# To add or append the elment in the list\n",
    "Motorcycles = [\"honda\",\"yamaha\",\"suzizki\"]\n",
    "print(Motorcycles)\n",
    "Motorcycles.append(\"ducati\")\n",
    "print(Motorcycles)"
   ]
  },
  {
   "cell_type": "code",
   "execution_count": 8,
   "metadata": {},
   "outputs": [
    {
     "name": "stdout",
     "output_type": "stream",
     "text": [
      "['honda', 'yamaha', 'suzizki']\n",
      "['honda', 'yamaha', 'ducati', 'suzizki']\n"
     ]
    }
   ],
   "source": [
    "Motorcycles = [\"honda\",\"yamaha\",\"suzizki\"]\n",
    "print(Motorcycles)\n",
    "#To add the element in the specific index position \n",
    "Motorcycles.insert(2,'ducati')\n",
    "print(Motorcycles)"
   ]
  },
  {
   "cell_type": "code",
   "execution_count": 9,
   "metadata": {},
   "outputs": [
    {
     "name": "stdout",
     "output_type": "stream",
     "text": [
      "['Maruthi', 'Kia', 'Hyundai', 'Honda']\n"
     ]
    }
   ],
   "source": [
    "# creating the empty list\n",
    "Car = []\n",
    "Car.append(\"Maruthi\")\n",
    "Car.append(\"Kia\")\n",
    "Car.append(\"Honda\")\n",
    "Car.insert(2,\"Hyundai\")\n",
    "print(Car)"
   ]
  },
  {
   "cell_type": "code",
   "execution_count": 11,
   "metadata": {},
   "outputs": [
    {
     "name": "stdout",
     "output_type": "stream",
     "text": [
      "['honda', 'yamaha', 'suzizki']\n",
      "['honda', 'suzizki']\n"
     ]
    }
   ],
   "source": [
    "#To delete the specicifc index element\n",
    "Motorcycles = [\"honda\",\"yamaha\",\"suzizki\"]\n",
    "print(Motorcycles)\n",
    "del Motorcycles[1]\n",
    "print(Motorcycles)"
   ]
  },
  {
   "cell_type": "code",
   "execution_count": 12,
   "metadata": {},
   "outputs": [
    {
     "name": "stdout",
     "output_type": "stream",
     "text": [
      "['honda', 'yamaha', 'suzizki']\n",
      "['honda', 'yamaha']\n"
     ]
    }
   ],
   "source": [
    "Motorcycles = [\"honda\",\"yamaha\",\"suzizki\"]\n",
    "print(Motorcycles)\n",
    "Motorcycles.pop()\n",
    "print(Motorcycles)"
   ]
  },
  {
   "cell_type": "code",
   "execution_count": 16,
   "metadata": {},
   "outputs": [
    {
     "name": "stdout",
     "output_type": "stream",
     "text": [
      "['bajaj', 'honda', 'java', 'suziki', 'yamaha']\n"
     ]
    }
   ],
   "source": [
    "#sort a list\n",
    "motorcycles = ['honda','yamaha','suziki','java','bajaj']\n",
    "motorcycles.sort()\n",
    "print(motorcycles)\n"
   ]
  },
  {
   "cell_type": "code",
   "execution_count": 17,
   "metadata": {},
   "outputs": [
    {
     "name": "stdout",
     "output_type": "stream",
     "text": [
      "['bajaj', 'java', 'suziki', 'yamaha', 'honda']\n"
     ]
    }
   ],
   "source": [
    "#Reverse a list\n",
    "motorcycles = ['honda','yamaha','suziki','java','bajaj']\n",
    "motorcycles.reverse()\n",
    "print(motorcycles)"
   ]
  },
  {
   "cell_type": "code",
   "execution_count": 18,
   "metadata": {},
   "outputs": [
    {
     "name": "stdout",
     "output_type": "stream",
     "text": [
      "5\n"
     ]
    }
   ],
   "source": [
    "#To find the count of the elements in the list \n",
    "motorcycles = ['honda','yamaha','suziki','java','bajaj']\n",
    "print(len(motorcycles))"
   ]
  },
  {
   "cell_type": "code",
   "execution_count": null,
   "metadata": {},
   "outputs": [],
   "source": []
  }
 ],
 "metadata": {
  "kernelspec": {
   "display_name": "Python 3",
   "language": "python",
   "name": "python3"
  },
  "language_info": {
   "codemirror_mode": {
    "name": "ipython",
    "version": 3
   },
   "file_extension": ".py",
   "mimetype": "text/x-python",
   "name": "python",
   "nbconvert_exporter": "python",
   "pygments_lexer": "ipython3",
   "version": "3.7.3"
  }
 },
 "nbformat": 4,
 "nbformat_minor": 2
}
