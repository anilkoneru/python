{
 "cells": [
  {
   "cell_type": "code",
   "execution_count": 1,
   "metadata": {},
   "outputs": [
    {
     "name": "stdout",
     "output_type": "stream",
     "text": [
      "{'color': 'green', 'points': 5}\n"
     ]
    }
   ],
   "source": [
    "# Introduction to Dicitionary data types\n",
    "alien_0 = {'color':'green','points': 5}\n",
    "print(alien_0)"
   ]
  },
  {
   "cell_type": "code",
   "execution_count": 3,
   "metadata": {},
   "outputs": [
    {
     "name": "stdout",
     "output_type": "stream",
     "text": [
      "green\n"
     ]
    }
   ],
   "source": [
    "alien_0 = {'color':'green','points': 5}\n",
    "print(alien_0['color'])"
   ]
  },
  {
   "cell_type": "code",
   "execution_count": 4,
   "metadata": {},
   "outputs": [
    {
     "name": "stdout",
     "output_type": "stream",
     "text": [
      "{'color': 'yellow', 'points': 10, 'score': 50, 'net total': 100}\n"
     ]
    }
   ],
   "source": [
    "alien_1 = {}\n",
    "alien_1['color'] = 'yellow'\n",
    "alien_1['points'] = 10\n",
    "alien_1['score'] = 50\n",
    "alien_1['net total'] = 100\n",
    "\n",
    "print(alien_1)"
   ]
  },
  {
   "cell_type": "code",
   "execution_count": 6,
   "metadata": {},
   "outputs": [
    {
     "name": "stdout",
     "output_type": "stream",
     "text": [
      "the alien is in yellow\n",
      "the alien is in blue\n"
     ]
    }
   ],
   "source": [
    "print(f\"the alien is in {alien_1['color']}\")\n",
    "      \n",
    "alien_1['color'] = 'blue'\n",
    "\n",
    "print(f\"the alien is in {alien_1['color']}\")      "
   ]
  },
  {
   "cell_type": "code",
   "execution_count": 7,
   "metadata": {},
   "outputs": [
    {
     "name": "stdout",
     "output_type": "stream",
     "text": [
      "blue\n"
     ]
    }
   ],
   "source": [
    "x = alien_1.get(\"color\")\n",
    "print(x)"
   ]
  },
  {
   "cell_type": "code",
   "execution_count": 8,
   "metadata": {},
   "outputs": [
    {
     "name": "stdout",
     "output_type": "stream",
     "text": [
      "200\n",
      "50\n"
     ]
    }
   ],
   "source": [
    "#Introduction to TUPLE data type\n",
    "dimensions = (200 , 50)\n",
    "print(dimensions[0])\n",
    "print(dimensions[1])"
   ]
  },
  {
   "cell_type": "code",
   "execution_count": 9,
   "metadata": {},
   "outputs": [
    {
     "ename": "TypeError",
     "evalue": "'tuple' object does not support item assignment",
     "output_type": "error",
     "traceback": [
      "\u001b[1;31m---------------------------------------------------------------------------\u001b[0m",
      "\u001b[1;31mTypeError\u001b[0m                                 Traceback (most recent call last)",
      "\u001b[1;32m<ipython-input-9-00271e61a311>\u001b[0m in \u001b[0;36m<module>\u001b[1;34m\u001b[0m\n\u001b[1;32m----> 1\u001b[1;33m \u001b[0mdimensions\u001b[0m\u001b[1;33m[\u001b[0m\u001b[1;36m0\u001b[0m\u001b[1;33m]\u001b[0m \u001b[1;33m=\u001b[0m \u001b[1;36m250\u001b[0m\u001b[1;33m\u001b[0m\u001b[1;33m\u001b[0m\u001b[0m\n\u001b[0m",
      "\u001b[1;31mTypeError\u001b[0m: 'tuple' object does not support item assignment"
     ]
    }
   ],
   "source": [
    "dimensions[0] = 250"
   ]
  },
  {
   "cell_type": "code",
   "execution_count": 12,
   "metadata": {},
   "outputs": [
    {
     "name": "stdout",
     "output_type": "stream",
     "text": [
      "10\n",
      "20\n",
      "30\n"
     ]
    }
   ],
   "source": [
    "dimensions1 = (10,20,30)\n",
    "for dimensions in dimensions1:\n",
    "    print(dimensions)"
   ]
  },
  {
   "cell_type": "code",
   "execution_count": 14,
   "metadata": {},
   "outputs": [
    {
     "name": "stdout",
     "output_type": "stream",
     "text": [
      "(10, 20, 30)\n",
      "(40, 50, 60)\n"
     ]
    }
   ],
   "source": [
    "# Writing over the TUPLE\n",
    "\n",
    "dimensions1 = (10, 20, 30)\n",
    "\n",
    "print(dimensions1)\n",
    "\n",
    "dimensions1 = (40, 50, 60 )\n",
    "\n",
    "print(dimensions1)\n"
   ]
  },
  {
   "cell_type": "code",
   "execution_count": 18,
   "metadata": {},
   "outputs": [
    {
     "name": "stdout",
     "output_type": "stream",
     "text": [
      "original values\n",
      "1\n",
      "2\n",
      "3\n",
      "\n",
      "Modified values:\n",
      "4\n",
      "5\n",
      "6\n"
     ]
    }
   ],
   "source": [
    "triangle = (1 , 2 ,3)\n",
    "\n",
    "print (\"original values\")\n",
    "\n",
    "for x in triangle:\n",
    "    print(x)\n",
    "    \n",
    "triangle = (4 , 5 ,6)\n",
    "\n",
    "print('\\nModified values:')\n",
    "for x in triangle:\n",
    "    print(x)    \n",
    "    "
   ]
  },
  {
   "cell_type": "code",
   "execution_count": 17,
   "metadata": {},
   "outputs": [
    {
     "name": "stdout",
     "output_type": "stream",
     "text": [
      "\n",
      "Modified values:\n",
      "4\n",
      "5\n",
      "6\n"
     ]
    }
   ],
   "source": [
    "triangle = (4 , 5 ,6)\n",
    "\n",
    "print('\\nModified values:')\n",
    "\n",
    "for x in triangle:\n",
    "    print(x)"
   ]
  },
  {
   "cell_type": "code",
   "execution_count": 19,
   "metadata": {},
   "outputs": [
    {
     "name": "stdout",
     "output_type": "stream",
     "text": [
      "Audi\n",
      "BMW\n",
      "Benz\n",
      "Toyota\n"
     ]
    }
   ],
   "source": [
    "# IF Condition\n",
    "\n",
    "cars = ['audi', 'bmw', 'benz' , 'toyota']\n",
    "\n",
    "for car in cars:\n",
    "    if car =='bmw':\n",
    "        print(car.upper())\n",
    "    else:\n",
    "        print(car.title())"
   ]
  },
  {
   "cell_type": "code",
   "execution_count": 21,
   "metadata": {},
   "outputs": [
    {
     "data": {
      "text/plain": [
       "True"
      ]
     },
     "execution_count": 21,
     "metadata": {},
     "output_type": "execute_result"
    }
   ],
   "source": [
    "# True or False of the statements\n",
    "car = 'rangerover'\n",
    "car == 'rangerover' "
   ]
  },
  {
   "cell_type": "code",
   "execution_count": 25,
   "metadata": {},
   "outputs": [
    {
     "data": {
      "text/plain": [
       "True"
      ]
     },
     "execution_count": 25,
     "metadata": {},
     "output_type": "execute_result"
    }
   ],
   "source": [
    "# Checking weather a value is in the List\n",
    "requested_toppings = ['mushrooms', 'corn', 'pineapple']\n",
    "'mushrooms' in requested_toppings\n",
    "\n"
   ]
  },
  {
   "cell_type": "code",
   "execution_count": 23,
   "metadata": {},
   "outputs": [
    {
     "data": {
      "text/plain": [
       "False"
      ]
     },
     "execution_count": 23,
     "metadata": {},
     "output_type": "execute_result"
    }
   ],
   "source": [
    "'pepperoni' in requested_toppings"
   ]
  },
  {
   "cell_type": "code",
   "execution_count": 24,
   "metadata": {},
   "outputs": [
    {
     "data": {
      "text/plain": [
       "False"
      ]
     },
     "execution_count": 24,
     "metadata": {},
     "output_type": "execute_result"
    }
   ],
   "source": [
    "'mushrooms' not in requested_toppings"
   ]
  },
  {
   "cell_type": "code",
   "execution_count": 26,
   "metadata": {},
   "outputs": [
    {
     "name": "stdout",
     "output_type": "stream",
     "text": [
      "You are old enough to vote\n"
     ]
    }
   ],
   "source": [
    "#Boolean expression  \n",
    "age = 19\n",
    "if age >= 18:\n",
    "   print(\"You are old enough to vote\")\n",
    "else:\n",
    "   print(\"sorry , you are too young to vote\")\n"
   ]
  },
  {
   "cell_type": "code",
   "execution_count": 27,
   "metadata": {},
   "outputs": [
    {
     "name": "stdout",
     "output_type": "stream",
     "text": [
      "sorry , you are too young to vote\n"
     ]
    }
   ],
   "source": [
    "age = 16\n",
    "if age >= 18:\n",
    "   print(\"You are old enough to vote\")\n",
    "else:\n",
    "   print(\"sorry , you are too young to vote\")\n"
   ]
  },
  {
   "cell_type": "code",
   "execution_count": 2,
   "metadata": {},
   "outputs": [
    {
     "name": "stdout",
     "output_type": "stream",
     "text": [
      "Tell me something and i will repeat it for youHI\n",
      "HI\n"
     ]
    }
   ],
   "source": [
    "#Introduction to user inputs:\n",
    "message = input(\"Tell me something and i will repeat it for you\")\n",
    "print(message)\n"
   ]
  },
  {
   "cell_type": "code",
   "execution_count": 1,
   "metadata": {},
   "outputs": [
    {
     "name": "stdout",
     "output_type": "stream",
     "text": [
      "0\n",
      "1\n",
      "2\n",
      "3\n",
      "4\n",
      "5\n"
     ]
    }
   ],
   "source": [
    "#Introduction to while loops\n",
    "current_number = 0\n",
    "while current_number <=5:\n",
    "    print(current_number)\n",
    "    current_number = current_number+1"
   ]
  },
  {
   "cell_type": "code",
   "execution_count": 2,
   "metadata": {},
   "outputs": [
    {
     "name": "stdout",
     "output_type": "stream",
     "text": [
      "Hello\n"
     ]
    }
   ],
   "source": [
    "#Introduction to Functions :\n",
    "def greet_users(): \n",
    "   \"\"\"Display a simple greeting\"\"\"\n",
    "print(\"Hello\")\n",
    "\n",
    "greet_users()"
   ]
  },
  {
   "cell_type": "code",
   "execution_count": 13,
   "metadata": {},
   "outputs": [
    {
     "name": "stdout",
     "output_type": "stream",
     "text": [
      "Hello , Anil\n"
     ]
    }
   ],
   "source": [
    "def greet_user(username):\n",
    "   \"\"\"Display a simple greeting\"\"\"\n",
    "   print(f\"Hello , {username.title()}\")\n",
    "\n",
    "\n",
    "greet_user(\"anil\")"
   ]
  },
  {
   "cell_type": "code",
   "execution_count": 33,
   "metadata": {},
   "outputs": [
    {
     "name": "stdout",
     "output_type": "stream",
     "text": [
      "\n",
      "i have a husky\n",
      "my husky's name is Bruno\n"
     ]
    }
   ],
   "source": [
    "def describe_pet(animal_name, pet_name):\n",
    "  \"\"\"Display ainformation about a pet\"\"\"\n",
    "  print(f\"\\ni have a {animal_name}\") \n",
    "  print(f\"my {animal_name}'s name is {pet_name.title()}\")\n",
    "    \n",
    "    \n",
    "describe_pet('husky','bruno') "
   ]
  },
  {
   "cell_type": "code",
   "execution_count": 34,
   "metadata": {},
   "outputs": [
    {
     "name": "stdout",
     "output_type": "stream",
     "text": [
      "\n",
      "i have a husky\n",
      "my husky's name is Bruno\n"
     ]
    }
   ],
   "source": [
    "describe_pet(pet_name = 'bruno' , animal_name = 'husky')"
   ]
  },
  {
   "cell_type": "code",
   "execution_count": null,
   "metadata": {},
   "outputs": [],
   "source": []
  }
 ],
 "metadata": {
  "kernelspec": {
   "display_name": "Python 3",
   "language": "python",
   "name": "python3"
  },
  "language_info": {
   "codemirror_mode": {
    "name": "ipython",
    "version": 3
   },
   "file_extension": ".py",
   "mimetype": "text/x-python",
   "name": "python",
   "nbconvert_exporter": "python",
   "pygments_lexer": "ipython3",
   "version": "3.7.3"
  }
 },
 "nbformat": 4,
 "nbformat_minor": 2
}
