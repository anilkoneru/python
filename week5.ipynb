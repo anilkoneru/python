{
 "cells": [
  {
   "cell_type": "code",
   "execution_count": 10,
   "metadata": {},
   "outputs": [
    {
     "name": "stdout",
     "output_type": "stream",
     "text": [
      "my dogs name is willie\n",
      "my dog is 6 years old\n",
      "wicky is now sitting\n",
      "wicky rolled over\n",
      "willie is sleeping\n"
     ]
    }
   ],
   "source": [
    "# introduction to oops classes and objects in python \n",
    "class Dog :\n",
    "    \"\"\"A simple attempt to model a dog\"\"\"\n",
    "    def __init__(self,name,age):\n",
    "        \n",
    "        self.name = name\n",
    "        self.age = age\n",
    "    def sit(self):\n",
    "        \n",
    "        \"\"\"Simulate a dog sitting and age attributes\"\"\"\n",
    "        \n",
    "        print(f\"{self.name} is now sitting\")\n",
    "    \n",
    "    def roll_over(self):\n",
    "        \"\"\"Simulate a dog rolling over in response\"\"\"\n",
    "        \n",
    "        print(f\"{self.name} rolled over\")\n",
    "    \n",
    "    def sleep(self) :\n",
    "        \"\"\"Simulate a dog rolling over in response\"\"\"\n",
    "       \n",
    "        print(f\"{self.name} is sleeping\")\n",
    "    \n",
    "        \n",
    "my_dog = Dog ('willie',6)\n",
    "\n",
    "print(f\"my dogs name is {my_dog.name}\")\n",
    "\n",
    "print(f\"my dog is {my_dog.age} years old\")  \n",
    "\n",
    "your_dog = Dog('wicky',3)\n",
    "\n",
    "your_dog.sit()\n",
    "your_dog.roll_over()\n",
    "my_dog.sleep() \n",
    "        \n",
    "        \n",
    "        \n",
    "        "
   ]
  },
  {
   "cell_type": "code",
   "execution_count": null,
   "metadata": {},
   "outputs": [],
   "source": []
  },
  {
   "cell_type": "code",
   "execution_count": null,
   "metadata": {},
   "outputs": [],
   "source": []
  }
 ],
 "metadata": {
  "kernelspec": {
   "display_name": "Python 3",
   "language": "python",
   "name": "python3"
  },
  "language_info": {
   "codemirror_mode": {
    "name": "ipython",
    "version": 3
   },
   "file_extension": ".py",
   "mimetype": "text/x-python",
   "name": "python",
   "nbconvert_exporter": "python",
   "pygments_lexer": "ipython3",
   "version": "3.7.3"
  }
 },
 "nbformat": 4,
 "nbformat_minor": 2
}
